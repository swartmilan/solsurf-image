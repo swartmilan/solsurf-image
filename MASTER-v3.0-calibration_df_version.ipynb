{
 "cells": [
  {
   "cell_type": "code",
   "execution_count": 1,
   "metadata": {},
   "outputs": [],
   "source": [
    "import pandas as pd\n",
    "import matplotlib as matplt\n",
    "from matplotlib import pyplot as plt\n",
    "import os\n",
    "import pickle as pkl\n",
    "from IPython.display import display\n",
    "\n",
    "from ImageProcessingScripts.pandas_data_frame_creator_v3_calibration_df_version import dataframe_creator"
   ]
  },
  {
   "cell_type": "markdown",
   "metadata": {},
   "source": [
    "### Take User Inputs\n",
    "Ask for user inputs and create input text file for reference.\n",
    "\n",
    "Where 2020/01/23 is the dated folder containing all the original clean mirror surface images for each mirror, cannot be used because exposure is 1/400.  \n",
    "2020/02/05 is the date when the mirror samples were installed and first exposed to the elements - same set as above, cannot be used as baseline because exposure is 1/400.  \n",
    "2020/03/06 is the date when the first samples were taken.\n",
    "\n",
    "All other photos and new set of calibration images are taken using 1/320 exposure length and ISO-100."
   ]
  },
  {
   "cell_type": "code",
   "execution_count": 2,
   "metadata": {
    "scrolled": true
   },
   "outputs": [
    {
     "name": "stdout",
     "output_type": "stream",
     "text": [
      "20200205\n"
     ]
    }
   ],
   "source": [
    "##Calibration file name\n",
    "cf_name = 'calibration_mirror_20200907_no1'\n",
    "date_string = '20200205' #this is also when the first reference is used in the plotting, therefore the date is taken to the loc\n",
    "print(date_string)       #of the \"first data point\" time wise."
   ]
  },
  {
   "cell_type": "markdown",
   "metadata": {},
   "source": [
    "#### Checks"
   ]
  },
  {
   "cell_type": "code",
   "execution_count": 3,
   "metadata": {},
   "outputs": [
    {
     "name": "stdout",
     "output_type": "stream",
     "text": [
      "Have you populated appropriate Image directories ??\n",
      "Have you checked the code below ??\n"
     ]
    }
   ],
   "source": [
    "print('Have you populated appropriate Image directories ??')\n",
    "print('Have you checked the code below ??')"
   ]
  },
  {
   "cell_type": "code",
   "execution_count": 4,
   "metadata": {},
   "outputs": [
    {
     "name": "stdout",
     "output_type": "stream",
     "text": [
      "    Is this the first/initial time running this controller (y/n)??y\n",
      "y\n"
     ]
    }
   ],
   "source": [
    "#value must be correct otherwise old master_df will be overwritten!!!!!!!   be careful\n",
    "yesno = input('    Is this the first/initial time running this controller (y/n)??')\n",
    "print(yesno)"
   ]
  },
  {
   "cell_type": "markdown",
   "metadata": {},
   "source": [
    "### Create DataFrame for storage of calibration values"
   ]
  },
  {
   "cell_type": "code",
   "execution_count": null,
   "metadata": {},
   "outputs": [],
   "source": [
    "dataframe_creator(cf_name, date_string)\n",
    "df_dir = 'F:/Google Drive/Masters/Reflectometer image processing/Master Controller/DataStorageActive/df_' + cf_name + '.pkl'"
   ]
  },
  {
   "cell_type": "markdown",
   "metadata": {},
   "source": [
    "## Fill DataFrame tracking Reflectance values over time"
   ]
  },
  {
   "cell_type": "markdown",
   "metadata": {},
   "source": [
    "#### Loading correct month data frame(s)"
   ]
  },
  {
   "cell_type": "code",
   "execution_count": 6,
   "metadata": {
    "scrolled": true
   },
   "outputs": [
    {
     "data": {
      "text/html": [
       "<div>\n",
       "<style scoped>\n",
       "    .dataframe tbody tr th:only-of-type {\n",
       "        vertical-align: middle;\n",
       "    }\n",
       "\n",
       "    .dataframe tbody tr th {\n",
       "        vertical-align: top;\n",
       "    }\n",
       "\n",
       "    .dataframe thead th {\n",
       "        text-align: right;\n",
       "    }\n",
       "</style>\n",
       "<table border=\"1\" class=\"dataframe\">\n",
       "  <thead>\n",
       "    <tr style=\"text-align: right;\">\n",
       "      <th></th>\n",
       "      <th>Date</th>\n",
       "      <th>Mirror</th>\n",
       "      <th>Mean_PI</th>\n",
       "      <th>Measurement Uncertainty %</th>\n",
       "    </tr>\n",
       "  </thead>\n",
       "  <tbody>\n",
       "    <tr>\n",
       "      <th>0</th>\n",
       "      <td>20200205</td>\n",
       "      <td>calibration-mirror</td>\n",
       "      <td>0.774827</td>\n",
       "      <td>0.218084</td>\n",
       "    </tr>\n",
       "  </tbody>\n",
       "</table>\n",
       "</div>"
      ],
      "text/plain": [
       "       Date              Mirror   Mean_PI  Measurement Uncertainty %\n",
       "0  20200205  calibration-mirror  0.774827                   0.218084"
      ]
     },
     "execution_count": 6,
     "metadata": {},
     "output_type": "execute_result"
    }
   ],
   "source": [
    "df_dir = 'F:/Google Drive/Masters/Reflectometer image processing/Master Controller/DataStorageActive/df_' + cf_name + '.pkl'\n",
    "df = pd.read_pickle(df_dir)\n",
    "df"
   ]
  },
  {
   "cell_type": "markdown",
   "metadata": {},
   "source": [
    "#### Master dataframe"
   ]
  },
  {
   "cell_type": "code",
   "execution_count": 7,
   "metadata": {},
   "outputs": [],
   "source": [
    "master_df_file = 'F:/Google Drive/Masters/Reflectometer image processing/Master Controller/master_df.pkl'\n",
    "if yesno == 'y':\n",
    "    master_df = pd.DataFrame(columns=['Date', 'Set', 'Soiled Reflectance M30subset', 'Clean Reflectance M30subset', 'MDRL M30subset', 'Soiled Reflectance M60subset', 'Clean Reflectance M60subset', 'MDRL M60subset', 'Reflectance Variability M60subset', 'Measurement Uncertainty'])\n",
    "    master_df.set_index(['Date'])\n",
    "else:\n",
    "    master_df = pd.read_pickle(master_df_file)"
   ]
  },
  {
   "cell_type": "markdown",
   "metadata": {},
   "source": [
    "#### Populating of master_df\n",
    "MDRL - Mean Daily Reflectance Loss, calculated as (R2-R1)/days_passed\n",
    "\n",
    "Reflectance is an expression of the reflected average light intensity of a soiled mirror divided by the average intensity of the reflected light of the calibration mirror. The starting reflectance is the calibration pixel intensity (~light intensity) as a float divided by itself - giving ONE or 100% reflectance. This is a proxy to express soiling over time and is not a measure of absolute reflectance, which requires more sofisticated equipment that can measure the PI equivalent of the emmited light before it is reflected."
   ]
  },
  {
   "cell_type": "code",
   "execution_count": 8,
   "metadata": {},
   "outputs": [],
   "source": [
    "#Reflectance calculation\n",
    "mean_PI = df.iloc[0]['Mean_PI']\n",
    "reflectance = mean_PI / mean_PI #will be 1.0 in this case\n",
    "\n",
    "# other entries\n",
    "uncertainty = df.iloc[0]['Measurement Uncertainty %']"
   ]
  },
  {
   "cell_type": "code",
   "execution_count": 9,
   "metadata": {
    "scrolled": true
   },
   "outputs": [
    {
     "data": {
      "text/html": [
       "<div>\n",
       "<style scoped>\n",
       "    .dataframe tbody tr th:only-of-type {\n",
       "        vertical-align: middle;\n",
       "    }\n",
       "\n",
       "    .dataframe tbody tr th {\n",
       "        vertical-align: top;\n",
       "    }\n",
       "\n",
       "    .dataframe thead th {\n",
       "        text-align: right;\n",
       "    }\n",
       "</style>\n",
       "<table border=\"1\" class=\"dataframe\">\n",
       "  <thead>\n",
       "    <tr style=\"text-align: right;\">\n",
       "      <th></th>\n",
       "      <th>Date</th>\n",
       "      <th>Set</th>\n",
       "      <th>Soiled Reflectance M30subset</th>\n",
       "      <th>Clean Reflectance M30subset</th>\n",
       "      <th>MDRL M30subset</th>\n",
       "      <th>Soiled Reflectance M60subset</th>\n",
       "      <th>Clean Reflectance M60subset</th>\n",
       "      <th>MDRL M60subset</th>\n",
       "      <th>Reflectance Variability M60subset</th>\n",
       "      <th>Measurement Uncertainty</th>\n",
       "    </tr>\n",
       "  </thead>\n",
       "  <tbody>\n",
       "    <tr>\n",
       "      <th>0</th>\n",
       "      <td>20200205</td>\n",
       "      <td>NaN</td>\n",
       "      <td>NaN</td>\n",
       "      <td>1.0</td>\n",
       "      <td>NaN</td>\n",
       "      <td>NaN</td>\n",
       "      <td>1.0</td>\n",
       "      <td>NaN</td>\n",
       "      <td>NaN</td>\n",
       "      <td>0.218084</td>\n",
       "    </tr>\n",
       "  </tbody>\n",
       "</table>\n",
       "</div>"
      ],
      "text/plain": [
       "       Date  Set  Soiled Reflectance M30subset  Clean Reflectance M30subset  \\\n",
       "0  20200205  NaN                           NaN                          1.0   \n",
       "\n",
       "   MDRL M30subset  Soiled Reflectance M60subset  Clean Reflectance M60subset  \\\n",
       "0             NaN                           NaN                          1.0   \n",
       "\n",
       "   MDRL M60subset  Reflectance Variability M60subset  Measurement Uncertainty  \n",
       "0             NaN                                NaN                 0.218084  "
      ]
     },
     "execution_count": 9,
     "metadata": {},
     "output_type": "execute_result"
    }
   ],
   "source": [
    "# DataFrame entry\n",
    "new_entry = {'Date':date_string,\n",
    "             'Clean Reflectance M30subset':reflectance,\n",
    "             'Clean Reflectance M60subset':reflectance,\n",
    "             'Measurement Uncertainty':uncertainty}\n",
    "master_df = master_df.append(new_entry, ignore_index=True)\n",
    "\n",
    "#Saving to active and cold storage\n",
    "pd.to_pickle(master_df, master_df_file)\n",
    "master_df_file_cold_storage = \"F:/Google Drive/Masters/Reflectometer image processing/Master Controller/DataColdStorage/MasterDFs/master_df_\" + date_string + \"_v3.pkl\"\n",
    "pd.to_pickle(master_df, master_df_file_cold_storage)\n",
    "master_df"
   ]
  },
  {
   "cell_type": "code",
   "execution_count": null,
   "metadata": {},
   "outputs": [],
   "source": []
  }
 ],
 "metadata": {
  "kernelspec": {
   "display_name": "Python 3",
   "language": "python",
   "name": "python3"
  },
  "language_info": {
   "codemirror_mode": {
    "name": "ipython",
    "version": 3
   },
   "file_extension": ".py",
   "mimetype": "text/x-python",
   "name": "python",
   "nbconvert_exporter": "python",
   "pygments_lexer": "ipython3",
   "version": "3.7.6"
  }
 },
 "nbformat": 4,
 "nbformat_minor": 2
}
